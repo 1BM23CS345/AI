{
  "nbformat": 4,
  "nbformat_minor": 0,
  "metadata": {
    "colab": {
      "provenance": [],
      "authorship_tag": "ABX9TyPbo6DtZEUHsXEfTB3hhqdR",
      "include_colab_link": true
    },
    "kernelspec": {
      "name": "python3",
      "display_name": "Python 3"
    },
    "language_info": {
      "name": "python"
    }
  },
  "cells": [
    {
      "cell_type": "markdown",
      "metadata": {
        "id": "view-in-github",
        "colab_type": "text"
      },
      "source": [
        "<a href=\"https://colab.research.google.com/github/1BM23CS345/AI/blob/main/simulated%20annealing.ipynb\" target=\"_parent\"><img src=\"https://colab.research.google.com/assets/colab-badge.svg\" alt=\"Open In Colab\"/></a>"
      ]
    },
    {
      "cell_type": "code",
      "execution_count": 3,
      "metadata": {
        "colab": {
          "base_uri": "https://localhost:8080/"
        },
        "id": "51J2Xw8F4RX0",
        "outputId": "42aebd0c-2dbb-4fa1-e8f2-61cb2e2d88b6"
      },
      "outputs": [
        {
          "output_type": "stream",
          "name": "stdout",
          "text": [
            "The best position found is: [5, 1, 1, 4, 7, 5, 0, 2]\n",
            "The number of queens that are not attacking each other is: 5\n"
          ]
        }
      ],
      "source": [
        "import random\n",
        "import math\n",
        "\n",
        "def attacks(state):\n",
        "    \"\"\"Calculate number of pairs of queens attacking each other.\"\"\"\n",
        "    attacks = 0\n",
        "    n = len(state)\n",
        "    for i in range(n):\n",
        "        for j in range(i + 1, n):\n",
        "            if state[i] == state[j] or abs(state[i] - state[j]) == abs(i - j):\n",
        "                attacks += 1\n",
        "    return attacks\n",
        "\n",
        "def get_random_neighbor(state):\n",
        "    \"\"\"Generate a random neighbor by changing the row of a random queen.\"\"\"\n",
        "    n = len(state)\n",
        "    neighbor = list(state)\n",
        "    col = random.randint(0, n - 1)\n",
        "    new_row = random.randint(0, n - 1)\n",
        "    while new_row == neighbor[col]:\n",
        "        new_row = random.randint(0, n - 1)\n",
        "    neighbor[col] = new_row\n",
        "    return tuple(neighbor)\n",
        "\n",
        "def simulated_annealing(initial_state, initial_temp, cooling_rate):\n",
        "    current = initial_state\n",
        "    T = initial_temp\n",
        "    current_cost = attacks(current)\n",
        "\n",
        "    while T > 0.1:\n",
        "        next_state = get_random_neighbor(current)\n",
        "        next_cost = attacks(next_state)\n",
        "        delta_E = current_cost - next_cost\n",
        "\n",
        "        if delta_E > 0:\n",
        "            current, current_cost = next_state, next_cost\n",
        "        else:\n",
        "            probability = math.exp(delta_E / T)\n",
        "            if random.random() < probability:\n",
        "                current, current_cost = next_state, next_cost\n",
        "\n",
        "        T *= cooling_rate  # Decrease temperature\n",
        "\n",
        "        if current_cost == 0:  # Goal reached\n",
        "            break\n",
        "\n",
        "    return current, current_cost\n",
        "\n",
        "# Example usage:\n",
        "n = 8  # For 8 queens as shown in your example\n",
        "initial_state = tuple(random.randint(0, n - 1) for _ in range(n))\n",
        "initial_temp = 1000\n",
        "cooling_rate = 0.95\n",
        "\n",
        "solution, cost = simulated_annealing(initial_state, initial_temp, cooling_rate)\n",
        "\n",
        "print(f\"The best position found is: {list(solution)}\")\n",
        "print(f\"The number of queens that are not attacking each other is: {n - cost}\")\n",
        "\n",
        "\n"
      ]
    },
    {
      "cell_type": "code",
      "source": [],
      "metadata": {
        "id": "ETVPq1DK_I28"
      },
      "execution_count": null,
      "outputs": []
    },
    {
      "cell_type": "markdown",
      "source": [
        "Suhas B P (1BM23CS345)"
      ],
      "metadata": {
        "id": "m75kwqN58aOV"
      }
    }
  ]
}